{
 "cells": [
  {
   "cell_type": "markdown",
   "id": "f486de28",
   "metadata": {},
   "source": [
    "# Append adds an item to the end of a list"
   ]
  },
  {
   "cell_type": "code",
   "execution_count": 1,
   "id": "06119b6e",
   "metadata": {},
   "outputs": [
    {
     "name": "stdout",
     "output_type": "stream",
     "text": [
      "[1, 2, 3, 4, 5]\n"
     ]
    }
   ],
   "source": [
    "list=[1,2,3,4]\n",
    "list.append(5)\n",
    "print(list)"
   ]
  },
  {
   "cell_type": "markdown",
   "id": "e2367c45",
   "metadata": {},
   "source": [
    "# .extend() adds the argument as new indexes at the end of the list"
   ]
  },
  {
   "cell_type": "code",
   "execution_count": 9,
   "id": "b10124c3",
   "metadata": {},
   "outputs": [
    {
     "name": "stdout",
     "output_type": "stream",
     "text": [
      "[1, 2, 3, 4, 'h', 'e', 'l', 'l', 'o']\n"
     ]
    }
   ],
   "source": [
    "list=[1,2,3,4]\n",
    "list.extend(\"hello\")\n",
    "print(list)"
   ]
  },
  {
   "cell_type": "markdown",
   "id": "7ecddefa",
   "metadata": {},
   "source": [
    "# .insert() adds a new index at the specified index"
   ]
  },
  {
   "cell_type": "code",
   "execution_count": 11,
   "id": "9248f69e",
   "metadata": {},
   "outputs": [
    {
     "name": "stdout",
     "output_type": "stream",
     "text": [
      "[1, 'hello', 2, 3, 4]\n"
     ]
    }
   ],
   "source": [
    "list=[1,2,3,4]\n",
    "list.insert(1, \"hello\")\n",
    "print(list)"
   ]
  },
  {
   "cell_type": "markdown",
   "id": "026182f9",
   "metadata": {},
   "source": [
    "# .remove() permanently deletes an specififed index from a list"
   ]
  },
  {
   "cell_type": "code",
   "execution_count": 14,
   "id": "27c3c0b2",
   "metadata": {},
   "outputs": [
    {
     "name": "stdout",
     "output_type": "stream",
     "text": [
      "[1, 2, 4]\n"
     ]
    }
   ],
   "source": [
    "list=[1,2,3,4]\n",
    "list.remove(3)\n",
    "print(list)"
   ]
  },
  {
   "cell_type": "markdown",
   "id": "56ab194a",
   "metadata": {},
   "source": [
    "# .count() tells you how many items are in a list"
   ]
  },
  {
   "cell_type": "code",
   "execution_count": 17,
   "id": "81ee6db7",
   "metadata": {},
   "outputs": [
    {
     "name": "stdout",
     "output_type": "stream",
     "text": [
      "2\n"
     ]
    }
   ],
   "source": [
    "list=[1,1,2,3,4]\n",
    "print(list.count(1))"
   ]
  },
  {
   "cell_type": "markdown",
   "id": "d639a3e2",
   "metadata": {},
   "source": [
    "# .index() tells you at what index the argument is in the list\n"
   ]
  },
  {
   "cell_type": "code",
   "execution_count": 20,
   "id": "63d0a43b",
   "metadata": {},
   "outputs": [
    {
     "data": {
      "text/plain": [
       "1"
      ]
     },
     "execution_count": 20,
     "metadata": {},
     "output_type": "execute_result"
    }
   ],
   "source": [
    "list=[1,2,3,4]\n",
    "list.index(2)"
   ]
  },
  {
   "cell_type": "markdown",
   "id": "620eb6ad",
   "metadata": {},
   "source": [
    "# .pop allows you to delete an item in a list but set a variable to the deleted item"
   ]
  },
  {
   "cell_type": "code",
   "execution_count": 21,
   "id": "351ea644",
   "metadata": {},
   "outputs": [
    {
     "name": "stdout",
     "output_type": "stream",
     "text": [
      "2\n",
      "[1, 3, 4]\n"
     ]
    }
   ],
   "source": [
    "list=[1,2,3,4]\n",
    "pop=list.pop(1)\n",
    "print(pop)\n",
    "print(list)"
   ]
  },
  {
   "cell_type": "markdown",
   "id": "e37ce379",
   "metadata": {},
   "source": [
    "# .sort sorts items in a list either by number or alphabetically with Capital letters coming first \n",
    "## cant mix and match numbers and strings"
   ]
  },
  {
   "cell_type": "code",
   "execution_count": 35,
   "id": "462003df",
   "metadata": {},
   "outputs": [
    {
     "name": "stdout",
     "output_type": "stream",
     "text": [
      "['Chocolate', 'hotdogs', 'pizza']\n"
     ]
    }
   ],
   "source": [
    "list=[\"pizza\",\"Chocolate\", \"hotdogs\"]\n",
    "list.sort()\n",
    "print(list)"
   ]
  },
  {
   "cell_type": "markdown",
   "id": "16b5583d",
   "metadata": {},
   "source": [
    "# .copy() duplicates the list"
   ]
  },
  {
   "cell_type": "code",
   "execution_count": 39,
   "id": "717db98c",
   "metadata": {},
   "outputs": [
    {
     "data": {
      "text/plain": [
       "[1, 2, 3, 4]"
      ]
     },
     "execution_count": 39,
     "metadata": {},
     "output_type": "execute_result"
    }
   ],
   "source": [
    "list=[1,2,3,4]\n",
    "list.copy()\n"
   ]
  },
  {
   "cell_type": "markdown",
   "id": "ecff6409",
   "metadata": {},
   "source": [
    "# .clear() turns the list into an empty list"
   ]
  },
  {
   "cell_type": "code",
   "execution_count": 41,
   "id": "c554e9f4",
   "metadata": {},
   "outputs": [
    {
     "name": "stdout",
     "output_type": "stream",
     "text": [
      "[]\n"
     ]
    }
   ],
   "source": [
    "list=[1,2,3,4]\n",
    "list.clear()\n",
    "print(list)"
   ]
  },
  {
   "cell_type": "code",
   "execution_count": null,
   "id": "032b7e5e",
   "metadata": {},
   "outputs": [],
   "source": []
  },
  {
   "cell_type": "code",
   "execution_count": null,
   "id": "46736ea9",
   "metadata": {},
   "outputs": [],
   "source": []
  },
  {
   "cell_type": "markdown",
   "id": "3660979a",
   "metadata": {},
   "source": [
    "# len tells you how many characters, inlcuding white spaces, there are in a list"
   ]
  },
  {
   "cell_type": "code",
   "execution_count": 49,
   "id": "7edb922b",
   "metadata": {},
   "outputs": [
    {
     "name": "stdout",
     "output_type": "stream",
     "text": [
      "Hi, how are you.\n"
     ]
    },
    {
     "data": {
      "text/plain": [
       "16"
      ]
     },
     "execution_count": 49,
     "metadata": {},
     "output_type": "execute_result"
    }
   ],
   "source": [
    "tuple=(\"Hi, how are you.\")\n",
    "print(tuple)\n",
    "len(tuple)"
   ]
  },
  {
   "cell_type": "markdown",
   "id": "c4a3c679",
   "metadata": {},
   "source": [
    "# max returns the highest value character in the list."
   ]
  },
  {
   "cell_type": "code",
   "execution_count": 57,
   "id": "71385c55",
   "metadata": {},
   "outputs": [
    {
     "name": "stdout",
     "output_type": "stream",
     "text": [
      "y\n",
      "6\n"
     ]
    }
   ],
   "source": [
    "tuple=(\"Hi, how are you.\")\n",
    "print(max(tuple))\n",
    "tuple2=(1,2,3,4,5,6)\n",
    "print(max(tuple2))"
   ]
  },
  {
   "cell_type": "code",
   "execution_count": 59,
   "id": "ce76cf41",
   "metadata": {},
   "outputs": [
    {
     "name": "stdout",
     "output_type": "stream",
     "text": [
      " \n",
      "1\n"
     ]
    }
   ],
   "source": [
    "tuple=(\"Hi, how are you.\")\n",
    "print(min(tuple))\n",
    "tuple2=(1,2,3,4,5,6)\n",
    "print(min(tuple2))"
   ]
  },
  {
   "cell_type": "markdown",
   "id": "391a328e",
   "metadata": {},
   "source": [
    "# Nathan Junker\n",
    "# Assignment 2\n",
    "# Version 1\n",
    "# Cs 150-1"
   ]
  },
  {
   "cell_type": "code",
   "execution_count": null,
   "id": "282e43ca",
   "metadata": {},
   "outputs": [],
   "source": []
  },
  {
   "cell_type": "code",
   "execution_count": 70,
   "id": "afa83c37",
   "metadata": {},
   "outputs": [
    {
     "name": "stdout",
     "output_type": "stream",
     "text": [
      "('republican', 'democrat', 'independent')\n",
      "('democrat', 'independent', 'republican')\n"
     ]
    }
   ],
   "source": [
    "Bonus=(\"republican\", \"democrat\", \"independent\")\n",
    "print(Bonus)\n",
    "A, B, C= Bonus\n",
    "Bonus=(B,C,A)\n",
    "print(Bonus)"
   ]
  },
  {
   "cell_type": "code",
   "execution_count": null,
   "id": "14ef4f37",
   "metadata": {},
   "outputs": [],
   "source": []
  }
 ],
 "metadata": {
  "kernelspec": {
   "display_name": "Python 3 (ipykernel)",
   "language": "python",
   "name": "python3"
  },
  "language_info": {
   "codemirror_mode": {
    "name": "ipython",
    "version": 3
   },
   "file_extension": ".py",
   "mimetype": "text/x-python",
   "name": "python",
   "nbconvert_exporter": "python",
   "pygments_lexer": "ipython3",
   "version": "3.9.12"
  }
 },
 "nbformat": 4,
 "nbformat_minor": 5
}
